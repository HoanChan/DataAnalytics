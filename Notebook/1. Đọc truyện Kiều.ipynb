{
 "cells": [
  {
   "cell_type": "markdown",
   "metadata": {},
   "source": [
    "#### Đọc file truyện kiều và thực hiện các thao tác sau:\n",
    "\n",
    "- Đếm số lượng từ\n",
    "- Đếm số lượng dòng\n",
    "- Đếm số lượng từ Kiều\n"
   ]
  },
  {
   "cell_type": "code",
   "execution_count": 1,
   "metadata": {},
   "outputs": [
    {
     "name": "stdout",
     "output_type": "stream",
     "text": [
      "Số lượng dòng 3257\n"
     ]
    }
   ],
   "source": [
    "fileName = \"Data/TruyenKieu.txt\"\n",
    "lineCount = 0\n",
    "with open(fileName, mode = 'rt', encoding=\"utf-8\") as fp:\n",
    "    lines = fp.readlines()\n",
    "    print ('Số lượng dòng', len(lines))"
   ]
  },
  {
   "cell_type": "code",
   "execution_count": null,
   "metadata": {},
   "outputs": [],
   "source": [
    "words = []\n",
    "for line in lines:\n",
    "    words += [w for w in line.split()]\n",
    "# print ('Các từ', words)"
   ]
  },
  {
   "cell_type": "code",
   "execution_count": null,
   "metadata": {},
   "outputs": [],
   "source": [
    "# Đếm tần số:\n",
    "# Tạo từ điển rỗng\n",
    "# Xét từng từ đã được tách\n",
    "# nếu từ xuất hiện lần đầu thì bổ sung nó vào từ điển\n",
    "# không thì đếm\n",
    "\n",
    "WordCount={}\n",
    "for w in words:\n",
    "    if not w in WordCount:\n",
    "        WordCount[w] = 1\n",
    "    else:\n",
    "        WordCount[w] += 1\n",
    "# print(WordCount)"
   ]
  },
  {
   "cell_type": "code",
   "execution_count": 20,
   "metadata": {},
   "outputs": [
    {
     "name": "stdout",
     "output_type": "stream",
     "text": [
      "Số lượng từ Kiều: 22\n"
     ]
    }
   ],
   "source": [
    "# Điếm từ Kiều\n",
    "print('Số lượng từ Kiều:', WordCount['Kiều'])"
   ]
  }
 ],
 "metadata": {
  "kernelspec": {
   "display_name": "Python 3.9.13 ('OpenCV')",
   "language": "python",
   "name": "python3"
  },
  "language_info": {
   "codemirror_mode": {
    "name": "ipython",
    "version": 3
   },
   "file_extension": ".py",
   "mimetype": "text/x-python",
   "name": "python",
   "nbconvert_exporter": "python",
   "pygments_lexer": "ipython3",
   "version": "3.9.13"
  },
  "orig_nbformat": 4,
  "vscode": {
   "interpreter": {
    "hash": "95d98a44cda9e75574512297fe2236e6216ed12910f1739f5cecc46a0fa7a95a"
   }
  }
 },
 "nbformat": 4,
 "nbformat_minor": 2
}
